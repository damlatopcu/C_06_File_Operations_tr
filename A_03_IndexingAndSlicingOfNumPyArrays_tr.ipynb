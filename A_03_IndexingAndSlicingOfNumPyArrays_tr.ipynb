{
 "cells": [
  {
   "cell_type": "code",
   "execution_count": 1,
   "metadata": {},
   "outputs": [
    {
     "data": {
      "text/plain": [
       "array([[1.000e+00, 0.000e+00, 0.000e+00, ..., 4.100e+00, 7.000e+00,\n",
       "        0.000e+00],\n",
       "       [2.000e+00, 0.000e+00, 0.000e+00, ..., 4.400e+00, 7.000e+00,\n",
       "        0.000e+00],\n",
       "       [3.000e+00, 0.000e+00, 0.000e+00, ..., 4.000e+00, 7.000e+00,\n",
       "        0.000e+00],\n",
       "       ...,\n",
       "       [6.571e+03, 4.000e+00, 0.000e+00, ..., 4.800e+00, 2.000e+00,\n",
       "        0.000e+00],\n",
       "       [6.572e+03, 3.000e+00, 0.000e+00, ..., 5.200e+00, 2.000e+00,\n",
       "        0.000e+00],\n",
       "       [6.573e+03, 2.000e+00, 0.000e+00, ..., 4.400e+00, 2.000e+00,\n",
       "        0.000e+00]])"
      ]
     },
     "execution_count": 1,
     "metadata": {},
     "output_type": "execute_result"
    }
   ],
   "source": [
    "import pandas as pd\n",
    "import numpy as np\n",
    "import csv\n",
    "import math\n",
    "import os,sys\n",
    "from scipy import stats\n",
    "aa=pd.read_csv(\"Earthquakes.csv\",sep=\";\")\n",
    "earthquakes=np.array(aa)\n",
    "earthquakes"
   ]
  },
  {
   "cell_type": "code",
   "execution_count": 2,
   "metadata": {},
   "outputs": [
    {
     "name": "stdout",
     "output_type": "stream",
     "text": [
      "[[  0.      0.      0.      0.      0.      0.      0.      0.      0.\n",
      "    0.      0.      0.      0.      0.      0.      0.      0.      0.\n",
      "    0.      0.   ]\n",
      " [374.341 376.878 372.003 356.846 364.171 360.535 371.958 369.653  38.893\n",
      "  373.773 358.861 374.635 370.201 376.546 375.318 390.388  38.357 357.018\n",
      "  376.883 421.821]\n",
      " [  7.02   10.27   78.07   42.77   14.86   36.68   50.33    6.93   11.62\n",
      "   10.53   28.49   15.29   10.      4.5    17.58    7.52   10.05    6.25\n",
      "   10.63    5.81 ]\n",
      " [  4.1     4.4     4.      4.5     4.1     5.2     4.8     4.3     4.2\n",
      "    4.8     4.9     4.3     4.1     4.5     4.6     4.5     4.1     4.1\n",
      "    4.1     4.   ]]\n"
     ]
    }
   ],
   "source": [
    "liste=[]\n",
    "data1=np.array(earthquakes[0:20,3])\n",
    "data2=np.array(earthquakes[0:20,5])\n",
    "data3=np.array(earthquakes[0:20,7])\n",
    "data4=np.array(earthquakes[0:20,12])\n",
    "\n",
    "liste.append(data1)\n",
    "liste.append(data2)\n",
    "liste.append(data3)\n",
    "liste.append(data4)\n",
    "my_list=np.array(liste)\n",
    "print(my_list)"
   ]
  },
  {
   "cell_type": "code",
   "execution_count": 3,
   "metadata": {},
   "outputs": [
    {
     "data": {
      "text/plain": [
       "array([[   1,    0,    0, ...,    4,    7,    0],\n",
       "       [   2,    0,    0, ...,    4,    7,    0],\n",
       "       [   3,    0,    0, ...,    4,    7,    0],\n",
       "       ...,\n",
       "       [6571,    4,    0, ...,    4,    2,    0],\n",
       "       [6572,    3,    0, ...,    5,    2,    0],\n",
       "       [6573,    2,    0, ...,    4,    2,    0]])"
      ]
     },
     "execution_count": 3,
     "metadata": {},
     "output_type": "execute_result"
    }
   ],
   "source": [
    "earthquakes=earthquakes.astype(int)\n",
    "earthquakes"
   ]
  },
  {
   "cell_type": "code",
   "execution_count": 4,
   "metadata": {},
   "outputs": [
    {
     "name": "stdout",
     "output_type": "stream",
     "text": [
      "[374  35   7 ...  37  28  10]\n"
     ]
    }
   ],
   "source": [
    "print(earthquakes[earthquakes > 4.5])"
   ]
  },
  {
   "cell_type": "code",
   "execution_count": 6,
   "metadata": {},
   "outputs": [
    {
     "data": {
      "text/plain": [
       "array([[   0,    0,    0, ...,    0,    0,    0],\n",
       "       [   2,    0,    0, ...,    4,    7,    0],\n",
       "       [   3,    0,    0, ...,    4,    7,    0],\n",
       "       ...,\n",
       "       [6571,    4,    0, ...,    4,    2,    0],\n",
       "       [6572,    3,    0, ...,    5,    2,    0],\n",
       "       [6573,    2,    0, ...,    4,    2,    0]])"
      ]
     },
     "execution_count": 6,
     "metadata": {},
     "output_type": "execute_result"
    }
   ],
   "source": [
    "earthquakes[0] = 0\n",
    "new_earthquakes=earthquakes\n",
    "new_earthquakes"
   ]
  },
  {
   "cell_type": "code",
   "execution_count": 12,
   "metadata": {},
   "outputs": [],
   "source": [
    "np.savetxt('Earthquakes_new.csv',new_earthquakes,delimiter=\";\")"
   ]
  },
  {
   "cell_type": "code",
   "execution_count": null,
   "metadata": {},
   "outputs": [],
   "source": []
  }
 ],
 "metadata": {
  "kernelspec": {
   "display_name": "Python 3",
   "language": "python",
   "name": "python3"
  },
  "language_info": {
   "codemirror_mode": {
    "name": "ipython",
    "version": 3
   },
   "file_extension": ".py",
   "mimetype": "text/x-python",
   "name": "python",
   "nbconvert_exporter": "python",
   "pygments_lexer": "ipython3",
   "version": "3.7.3"
  }
 },
 "nbformat": 4,
 "nbformat_minor": 2
}
